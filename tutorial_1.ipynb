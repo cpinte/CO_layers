{
 "cells": [
  {
   "cell_type": "code",
   "execution_count": 1,
   "metadata": {},
   "outputs": [],
   "source": [
    "import CO_layers as cl\n",
    "import casa_cube\n",
    "%matplotlib inline"
   ]
  },
  {
   "cell_type": "markdown",
   "metadata": {},
   "source": [
    "# Mearuring the CO emitting layer in HD163296\n",
    "\n",
    "link https://almascience.eso.org/almadata/lp/DSHARP/images/HD163296_CO.fits"
   ]
  },
  {
   "cell_type": "code",
   "execution_count": 7,
   "metadata": {},
   "outputs": [
    {
     "name": "stdout",
     "output_type": "stream",
     "text": [
      "cannot open HD163296_CO.fits\n"
     ]
    }
   ],
   "source": [
    "cube_handle = casa_cube.Cube('HD163296_CO.fits')\n",
    "# surf = cl.Surface(cube=cube_handle, PA=133.33, inc= 46.7, x_star = -2.8, y_star = 7.7)"
   ]
  }
 ],
 "metadata": {
  "interpreter": {
   "hash": "375639b82a97596ac1ecd52e4f94ccf8b6744171e711e8abe83e3d882ab79e21"
  },
  "kernelspec": {
   "display_name": "Python 3.8.13 ('py_co_layer')",
   "language": "python",
   "name": "python3"
  },
  "language_info": {
   "codemirror_mode": {
    "name": "ipython",
    "version": 3
   },
   "file_extension": ".py",
   "mimetype": "text/x-python",
   "name": "python",
   "nbconvert_exporter": "python",
   "pygments_lexer": "ipython3",
   "version": "3.7.13"
  },
  "orig_nbformat": 4
 },
 "nbformat": 4,
 "nbformat_minor": 2
}
